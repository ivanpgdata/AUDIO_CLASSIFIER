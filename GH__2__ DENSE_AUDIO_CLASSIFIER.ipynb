{
 "cells": [
  {
   "cell_type": "code",
   "execution_count": 1,
   "id": "5df2451e-b5f0-42ca-96d8-acb54d616524",
   "metadata": {},
   "outputs": [],
   "source": [
    "import os\n",
    "import librosa\n",
    "import numpy as np\n",
    "from sklearn.model_selection import train_test_split\n",
    "from sklearn.preprocessing import LabelEncoder\n",
    "from tensorflow.keras.utils import to_categorical\n",
    "from tensorflow.keras.models import Sequential\n",
    "from tensorflow.keras.layers import Dense, Dropout"
   ]
  },
  {
   "cell_type": "code",
   "execution_count": 2,
   "id": "066baf9b-6ddd-4fca-a4cc-46878de26864",
   "metadata": {
    "scrolled": true
   },
   "outputs": [],
   "source": [
    "# Path to the IRMAS dataset\n",
    "dataset_path = r'X:\\CODING\\PROJECTS\\AUDIO_PROJECT\\New folder\\IRMAS-TrainingData'  # We use raw string to avoid issues with backslashes\n",
    "\n",
    "# Function to load audio files and extract MFCC features\n",
    "def extract_features(file_path):\n",
    "    audio, sample_rate = librosa.load(file_path, res_type='kaiser_fast')\n",
    "    mfccs = librosa.feature.mfcc(y=audio, sr=sample_rate, n_mfcc=40)\n",
    "    mfccs_scaled = np.mean(mfccs.T, axis=0)\n",
    "    return mfccs_scaled\n",
    "\n",
    "# Load data and labels\n",
    "data = []\n",
    "labels = []\n",
    "\n",
    "# Iterate through the dataset\n",
    "for root, dirs, files in os.walk(dataset_path):\n",
    "    for file in files:\n",
    "        if file.endswith('.wav'):\n",
    "            file_path = os.path.join(root, file)  # Build the full file path\n",
    "            label = root.split(os.sep)[-1]  # Extract the label (instrument name)\n",
    "            features = extract_features(file_path)  # Extract MFCC features from the audio file\n",
    "            data.append(features)\n",
    "            labels.append(label)\n",
    "\n",
    "# Convert to numpy arrays\n",
    "data = np.array(data)\n",
    "labels = np.array(labels)\n",
    "\n",
    "# Encode labels\n",
    "label_encoder = LabelEncoder()\n",
    "labels_encoded = label_encoder.fit_transform(labels)\n",
    "labels_categorical = to_categorical(labels_encoded)"
   ]
  },
  {
   "cell_type": "code",
   "execution_count": 3,
   "id": "cd781548-2913-4c0d-94f1-32383ffa688f",
   "metadata": {},
   "outputs": [
    {
     "name": "stdout",
     "output_type": "stream",
     "text": [
      "Tamaño del conjunto de entrenamiento: (5364, 40)\n",
      "Tamaño del conjunto de prueba: (1341, 40)\n"
     ]
    }
   ],
   "source": [
    "# Split into training and testing sets\n",
    "X_train, X_test, y_train, y_test = train_test_split(data, labels_categorical, test_size=0.2, random_state=42)\n",
    "\n",
    "print(f'Tamaño del conjunto de entrenamiento: {X_train.shape}')\n",
    "print(f'Tamaño del conjunto de prueba: {X_test.shape}')"
   ]
  },
  {
   "cell_type": "code",
   "execution_count": 4,
   "id": "628319f8-bb87-4919-be04-ac8f4de52d16",
   "metadata": {},
   "outputs": [
    {
     "name": "stderr",
     "output_type": "stream",
     "text": [
      "C:\\Users\\ivanp\\anaconda3\\lib\\site-packages\\keras\\src\\layers\\core\\dense.py:86: UserWarning: Do not pass an `input_shape`/`input_dim` argument to a layer. When using Sequential models, prefer using an `Input(shape)` object as the first layer in the model instead.\n",
      "  super().__init__(activity_regularizer=activity_regularizer, **kwargs)\n"
     ]
    }
   ],
   "source": [
    "# Define the model\n",
    "model = Sequential()\n",
    "# First layer\n",
    "model.add(Dense(512, input_shape=(40,), activation='relu'))\n",
    "model.add(Dropout(0.5))\n",
    "\n",
    "# Layer2\n",
    "model.add(Dense(256, activation='relu'))\n",
    "model.add(Dropout(0.5))\n",
    "#Layer3\n",
    "model.add(Dense(128, activation='relu'))\n",
    "model.add(Dropout(0.5))\n",
    "\n",
    "# Output layer\n",
    "model.add(Dense(len(np.unique(labels)), activation='softmax'))"
   ]
  },
  {
   "cell_type": "code",
   "execution_count": 5,
   "id": "e007870c-0971-43ad-877b-64028e8aadc0",
   "metadata": {},
   "outputs": [],
   "source": [
    "# Compile the model\n",
    "model.compile(loss='categorical_crossentropy', optimizer='adam', metrics=['accuracy'])"
   ]
  },
  {
   "cell_type": "code",
   "execution_count": 10,
   "id": "64fdef81-4c46-402a-8c61-579fd9dc8f71",
   "metadata": {},
   "outputs": [],
   "source": [
    "# Train the model\n",
    "history = model.fit(X_train, y_train, epochs=75, batch_size=32, validation_data=(X_test, y_test), verbose = 0)"
   ]
  },
  {
   "cell_type": "code",
   "execution_count": 11,
   "id": "39330252-db0b-448d-b84e-eccd58787ff5",
   "metadata": {},
   "outputs": [
    {
     "name": "stdout",
     "output_type": "stream",
     "text": [
      "\u001b[1m42/42\u001b[0m \u001b[32m━━━━━━━━━━━━━━━━━━━━\u001b[0m\u001b[37m\u001b[0m \u001b[1m0s\u001b[0m 1ms/step - accuracy: 0.5575 - loss: 1.4456 \n",
      "Model accuracy: 53.39%\n"
     ]
    }
   ],
   "source": [
    "# Evaluate the model\n",
    "score = model.evaluate(X_test, y_test, verbose=1)\n",
    "print(f'Model accuracy: {score[1]*100:.2f}%')"
   ]
  },
  {
   "cell_type": "code",
   "execution_count": 12,
   "id": "c4c0f12b-d377-4958-9d36-f0b6a8496605",
   "metadata": {},
   "outputs": [],
   "source": [
    "# Function to predict the instrument in a new audio file\n",
    "def predict_instrument(file_path, model, label_encoder):\n",
    "    features = extract_features(file_path)\n",
    "    features = np.expand_dims(features, axis=0)  # Expand dimensions to match the model's input\n",
    "    prediction = model.predict(features)\n",
    "    predicted_label = np.argmax(prediction, axis=1)\n",
    "    predicted_instrument = label_encoder.inverse_transform(predicted_label)\n",
    "    return predicted_instrument[0]"
   ]
  },
  {
   "cell_type": "code",
   "execution_count": 13,
   "id": "4b40500f-ffb9-4c1c-87ec-9e5b194973e9",
   "metadata": {},
   "outputs": [
    {
     "name": "stdout",
     "output_type": "stream",
     "text": [
      "\u001b[1m1/1\u001b[0m \u001b[32m━━━━━━━━━━━━━━━━━━━━\u001b[0m\u001b[37m\u001b[0m \u001b[1m0s\u001b[0m 31ms/step\n",
      "The predicted instrument is: pia\n"
     ]
    }
   ],
   "source": [
    "# Example prediction on a new audio file\n",
    "new_file_path = r'X:\\CODING\\PROJECTS\\AUDIO_PROJECT\\New folder\\audio1.mp3'  # Change this to the path of your new audio file\n",
    "predicted_instrument = predict_instrument(new_file_path, model, label_encoder)\n",
    "print(f'The predicted instrument is: {predicted_instrument}')"
   ]
  },
  {
   "cell_type": "code",
   "execution_count": null,
   "id": "d3fde080-5909-4b37-a736-b27a7ba9de7e",
   "metadata": {},
   "outputs": [],
   "source": []
  },
  {
   "cell_type": "code",
   "execution_count": null,
   "id": "7c0a59e1-cd93-4f5a-a727-e4c72586d45b",
   "metadata": {},
   "outputs": [],
   "source": []
  }
 ],
 "metadata": {
  "kernelspec": {
   "display_name": "Python 3 (ipykernel)",
   "language": "python",
   "name": "python3"
  },
  "language_info": {
   "codemirror_mode": {
    "name": "ipython",
    "version": 3
   },
   "file_extension": ".py",
   "mimetype": "text/x-python",
   "name": "python",
   "nbconvert_exporter": "python",
   "pygments_lexer": "ipython3",
   "version": "3.9.18"
  }
 },
 "nbformat": 4,
 "nbformat_minor": 5
}
