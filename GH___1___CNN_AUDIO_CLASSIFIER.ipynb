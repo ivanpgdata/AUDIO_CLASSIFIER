{
 "cells": [
  {
   "cell_type": "code",
   "execution_count": 67,
   "id": "3df70c9d-49b7-4228-b4e2-7ec5f34bab99",
   "metadata": {},
   "outputs": [],
   "source": [
    "import numpy as np\n",
    "import librosa.display, os\n",
    "import matplotlib.pyplot as plt\n",
    "import os\n",
    "from keras.preprocessing import image\n",
    "from tensorflow.keras.utils import to_categorical\n",
    "from sklearn.model_selection import train_test_split\n",
    "from keras.models import Sequential\n",
    "from keras.layers import Flatten, Dense\n",
    "from scipy.io import wavfile\n",
    "from tensorflow.keras import layers"
   ]
  },
  {
   "cell_type": "code",
   "execution_count": 2,
   "id": "8abeb1f7-e103-452c-b232-5bae20dd6cfa",
   "metadata": {},
   "outputs": [
    {
     "name": "stdout",
     "output_type": "stream",
     "text": [
      "CUDA disponible: False\n",
      "Dispositivos GPU disponibles: []\n"
     ]
    }
   ],
   "source": [
    "import tensorflow as tf\n",
    "\n",
    "# Verificar si CUDA está disponible\n",
    "print(\"CUDA disponible:\", tf.test.is_built_with_cuda())\n",
    "\n",
    "# Listar los dispositivos físicos GPU disponibles\n",
    "print(\"Dispositivos GPU disponibles:\", tf.config.list_physical_devices('GPU'))\n"
   ]
  },
  {
   "cell_type": "code",
   "execution_count": null,
   "id": "1c6848f1-6914-42fd-99f4-e8f54d5be4fe",
   "metadata": {},
   "outputs": [],
   "source": []
  },
  {
   "cell_type": "code",
   "execution_count": 1,
   "id": "1a68fa61-15f1-4902-ab73-1cccf650c137",
   "metadata": {},
   "outputs": [
    {
     "data": {
      "text/plain": [
       "'2.16.1'"
      ]
     },
     "execution_count": 1,
     "metadata": {},
     "output_type": "execute_result"
    }
   ],
   "source": [
    "import tensorflow as tf\n",
    "tf. __version__"
   ]
  },
  {
   "cell_type": "code",
   "execution_count": 13,
   "id": "5b7613cb-8da2-475e-9b27-628225ed5fc6",
   "metadata": {},
   "outputs": [
    {
     "data": {
      "text/plain": [
       "'2.16.1'"
      ]
     },
     "execution_count": 13,
     "metadata": {},
     "output_type": "execute_result"
    }
   ],
   "source": [
    "tf. __version__"
   ]
  },
  {
   "cell_type": "code",
   "execution_count": 9,
   "id": "5a0addce-329a-4c2b-be4f-bb53af4b66ff",
   "metadata": {},
   "outputs": [
    {
     "data": {
      "text/plain": [
       "'3.2.1'"
      ]
     },
     "execution_count": 9,
     "metadata": {},
     "output_type": "execute_result"
    }
   ],
   "source": [
    "import keras\n",
    "keras. __version__"
   ]
  },
  {
   "cell_type": "code",
   "execution_count": 14,
   "id": "b6cfe449-c7e6-43bc-9419-8106dc0968a6",
   "metadata": {},
   "outputs": [
    {
     "data": {
      "text/plain": [
       "'3.2.1'"
      ]
     },
     "execution_count": 14,
     "metadata": {},
     "output_type": "execute_result"
    }
   ],
   "source": [
    "keras. __version__"
   ]
  },
  {
   "cell_type": "code",
   "execution_count": 10,
   "id": "1e74b641-f8ee-4cdc-b8ba-abe61d2ef04b",
   "metadata": {},
   "outputs": [
    {
     "data": {
      "text/plain": [
       "OrderedDict([('is_cuda_build', False),\n",
       "             ('is_rocm_build', False),\n",
       "             ('is_tensorrt_build', False),\n",
       "             ('msvcp_dll_names', 'msvcp140.dll,msvcp140_1.dll')])"
      ]
     },
     "execution_count": 10,
     "metadata": {},
     "output_type": "execute_result"
    }
   ],
   "source": [
    "tf.sysconfig.get_build_info()"
   ]
  },
  {
   "cell_type": "code",
   "execution_count": null,
   "id": "c92c5c72-49d5-474e-bde9-6fc174c48df0",
   "metadata": {},
   "outputs": [],
   "source": []
  },
  {
   "cell_type": "code",
   "execution_count": 3,
   "id": "6ff85735-bcfc-4612-9efd-104288ec726d",
   "metadata": {},
   "outputs": [
    {
     "data": {
      "text/plain": [
       "[]"
      ]
     },
     "execution_count": 3,
     "metadata": {},
     "output_type": "execute_result"
    }
   ],
   "source": [
    "import tensorflow as tf\n",
    "tf.config.list_physical_devices('GPU')"
   ]
  },
  {
   "cell_type": "markdown",
   "id": "ab4895cc-143d-4d72-8245-0bddacce6efa",
   "metadata": {},
   "source": [
    "The first step is to load the WAV files, use a Python package named Librosa to generate spectrogram images from them, load the spectrograms into memory, and prepare them for use in training a CNN. To aid in this process, we'll define a pair of helper functions for creating spectrograms from WAV files and converting all the WAV files in a specified directory into spectrograms."
   ]
  },
  {
   "cell_type": "markdown",
   "id": "986bb5c2-b09a-4d65-8b64-06799231fec6",
   "metadata": {},
   "source": [
    "cello (cel), clarinet (cla), flute (flu), acoustic guitar (gac), electric guitar (gel), organ (org), piano (pia), saxophone (sax), trumpet (tru), violin (vio), and human singing voice (voi)"
   ]
  },
  {
   "cell_type": "markdown",
   "id": "a4b98fd9-d386-449f-8d1b-7b8a1d165c31",
   "metadata": {
    "jp-MarkdownHeadingCollapsed": true
   },
   "source": [
    "# Model_1"
   ]
  },
  {
   "cell_type": "code",
   "execution_count": 2,
   "id": "ee253131-55d5-4ee9-8762-02e4e8dac12e",
   "metadata": {},
   "outputs": [],
   "source": [
    "# Function create spectrogram from an audio file\n",
    "def create_spectrogram(audio_file, image_file):\n",
    "    fig = plt.figure()\n",
    "    ax = fig.add_subplot(1, 1, 1)\n",
    "    fig.subplots_adjust(left=0, right=1, bottom=0, top=1)\n",
    "\n",
    "    y, sr = librosa.load(audio_file)\n",
    "    ms = librosa.feature.melspectrogram(y=y, sr=sr) # Generates the mel spectrogram\n",
    "    log_ms = librosa.power_to_db(ms, ref=np.max) # turns into dB the spectrogram (through log)\n",
    "    librosa.display.specshow(log_ms, sr=sr)\n",
    "\n",
    "    fig.savefig(image_file)\n",
    "    plt.close(fig)\n",
    "\n",
    "#Function create pngs from wavs iterates through a directory, and for each file, summons create_spectogram to create the image\n",
    "def create_pngs_from_wavs(input_path, output_path):\n",
    "    if not os.path.exists(output_path):\n",
    "        os.makedirs(output_path)\n",
    "\n",
    "    dir = os.listdir(input_path)\n",
    "\n",
    "    for i, file in enumerate(dir):\n",
    "        input_file = os.path.join(input_path, file)\n",
    "        output_file = os.path.join(output_path, file.replace('.wav', '.png'))\n",
    "        create_spectrogram(input_file, output_file)"
   ]
  },
  {
   "cell_type": "markdown",
   "id": "51872806-dce2-49d8-8cc7-148686c63c3d",
   "metadata": {},
   "source": [
    "Create PNG files containing spectrograms from all the WAV files in the \"Sounds/background\" directory."
   ]
  },
  {
   "cell_type": "code",
   "execution_count": 3,
   "id": "1f2330fe-32b7-4738-8362-1f233fe81f8f",
   "metadata": {},
   "outputs": [
    {
     "ename": "KeyboardInterrupt",
     "evalue": "",
     "output_type": "error",
     "traceback": [
      "\u001b[1;31m---------------------------------------------------------------------------\u001b[0m",
      "\u001b[1;31mKeyboardInterrupt\u001b[0m                         Traceback (most recent call last)",
      "Cell \u001b[1;32mIn[3], line 8\u001b[0m\n\u001b[0;32m      6\u001b[0m create_pngs_from_wavs(\u001b[38;5;124mr\u001b[39m\u001b[38;5;124m'\u001b[39m\u001b[38;5;124mC:\u001b[39m\u001b[38;5;124m\\\u001b[39m\u001b[38;5;124mUsers\u001b[39m\u001b[38;5;124m\\\u001b[39m\u001b[38;5;124mivanp\u001b[39m\u001b[38;5;124m\\\u001b[39m\u001b[38;5;124mDesktop\u001b[39m\u001b[38;5;124m\\\u001b[39m\u001b[38;5;124mNew folder\u001b[39m\u001b[38;5;124m\\\u001b[39m\u001b[38;5;124mIRMAS-TrainingData\u001b[39m\u001b[38;5;124m\\\u001b[39m\u001b[38;5;124mflu\u001b[39m\u001b[38;5;124m'\u001b[39m, \u001b[38;5;124m'\u001b[39m\u001b[38;5;124mSpectrograms/flu\u001b[39m\u001b[38;5;124m'\u001b[39m)\n\u001b[0;32m      7\u001b[0m \u001b[38;5;66;03m# acoustic guitar (gac)\u001b[39;00m\n\u001b[1;32m----> 8\u001b[0m \u001b[43mcreate_pngs_from_wavs\u001b[49m\u001b[43m(\u001b[49m\u001b[38;5;124;43mr\u001b[39;49m\u001b[38;5;124;43m'\u001b[39;49m\u001b[38;5;124;43mC:\u001b[39;49m\u001b[38;5;124;43m\\\u001b[39;49m\u001b[38;5;124;43mUsers\u001b[39;49m\u001b[38;5;124;43m\\\u001b[39;49m\u001b[38;5;124;43mivanp\u001b[39;49m\u001b[38;5;124;43m\\\u001b[39;49m\u001b[38;5;124;43mDesktop\u001b[39;49m\u001b[38;5;124;43m\\\u001b[39;49m\u001b[38;5;124;43mNew folder\u001b[39;49m\u001b[38;5;124;43m\\\u001b[39;49m\u001b[38;5;124;43mIRMAS-TrainingData\u001b[39;49m\u001b[38;5;124;43m\\\u001b[39;49m\u001b[38;5;124;43mgac\u001b[39;49m\u001b[38;5;124;43m'\u001b[39;49m\u001b[43m,\u001b[49m\u001b[43m \u001b[49m\u001b[38;5;124;43m'\u001b[39;49m\u001b[38;5;124;43mSpectrograms/gac\u001b[39;49m\u001b[38;5;124;43m'\u001b[39;49m\u001b[43m)\u001b[49m\n\u001b[0;32m      9\u001b[0m \u001b[38;5;66;03m# electric guitar (gel)\u001b[39;00m\n\u001b[0;32m     10\u001b[0m create_pngs_from_wavs(\u001b[38;5;124mr\u001b[39m\u001b[38;5;124m'\u001b[39m\u001b[38;5;124mC:\u001b[39m\u001b[38;5;124m\\\u001b[39m\u001b[38;5;124mUsers\u001b[39m\u001b[38;5;124m\\\u001b[39m\u001b[38;5;124mivanp\u001b[39m\u001b[38;5;124m\\\u001b[39m\u001b[38;5;124mDesktop\u001b[39m\u001b[38;5;124m\\\u001b[39m\u001b[38;5;124mNew folder\u001b[39m\u001b[38;5;124m\\\u001b[39m\u001b[38;5;124mIRMAS-TrainingData\u001b[39m\u001b[38;5;124m\\\u001b[39m\u001b[38;5;124mgel\u001b[39m\u001b[38;5;124m'\u001b[39m, \u001b[38;5;124m'\u001b[39m\u001b[38;5;124mSpectrograms/gel\u001b[39m\u001b[38;5;124m'\u001b[39m)\n",
      "Cell \u001b[1;32mIn[2], line 25\u001b[0m, in \u001b[0;36mcreate_pngs_from_wavs\u001b[1;34m(input_path, output_path)\u001b[0m\n\u001b[0;32m     23\u001b[0m input_file \u001b[38;5;241m=\u001b[39m os\u001b[38;5;241m.\u001b[39mpath\u001b[38;5;241m.\u001b[39mjoin(input_path, file)\n\u001b[0;32m     24\u001b[0m output_file \u001b[38;5;241m=\u001b[39m os\u001b[38;5;241m.\u001b[39mpath\u001b[38;5;241m.\u001b[39mjoin(output_path, file\u001b[38;5;241m.\u001b[39mreplace(\u001b[38;5;124m'\u001b[39m\u001b[38;5;124m.wav\u001b[39m\u001b[38;5;124m'\u001b[39m, \u001b[38;5;124m'\u001b[39m\u001b[38;5;124m.png\u001b[39m\u001b[38;5;124m'\u001b[39m))\n\u001b[1;32m---> 25\u001b[0m \u001b[43mcreate_spectrogram\u001b[49m\u001b[43m(\u001b[49m\u001b[43minput_file\u001b[49m\u001b[43m,\u001b[49m\u001b[43m \u001b[49m\u001b[43moutput_file\u001b[49m\u001b[43m)\u001b[49m\n",
      "Cell \u001b[1;32mIn[2], line 7\u001b[0m, in \u001b[0;36mcreate_spectrogram\u001b[1;34m(audio_file, image_file)\u001b[0m\n\u001b[0;32m      4\u001b[0m ax \u001b[38;5;241m=\u001b[39m fig\u001b[38;5;241m.\u001b[39madd_subplot(\u001b[38;5;241m1\u001b[39m, \u001b[38;5;241m1\u001b[39m, \u001b[38;5;241m1\u001b[39m)\n\u001b[0;32m      5\u001b[0m fig\u001b[38;5;241m.\u001b[39msubplots_adjust(left\u001b[38;5;241m=\u001b[39m\u001b[38;5;241m0\u001b[39m, right\u001b[38;5;241m=\u001b[39m\u001b[38;5;241m1\u001b[39m, bottom\u001b[38;5;241m=\u001b[39m\u001b[38;5;241m0\u001b[39m, top\u001b[38;5;241m=\u001b[39m\u001b[38;5;241m1\u001b[39m)\n\u001b[1;32m----> 7\u001b[0m y, sr \u001b[38;5;241m=\u001b[39m \u001b[43mlibrosa\u001b[49m\u001b[38;5;241;43m.\u001b[39;49m\u001b[43mload\u001b[49m\u001b[43m(\u001b[49m\u001b[43maudio_file\u001b[49m\u001b[43m)\u001b[49m\n\u001b[0;32m      8\u001b[0m ms \u001b[38;5;241m=\u001b[39m librosa\u001b[38;5;241m.\u001b[39mfeature\u001b[38;5;241m.\u001b[39mmelspectrogram(y\u001b[38;5;241m=\u001b[39my, sr\u001b[38;5;241m=\u001b[39msr) \u001b[38;5;66;03m# Generates the mel spectrogram\u001b[39;00m\n\u001b[0;32m      9\u001b[0m log_ms \u001b[38;5;241m=\u001b[39m librosa\u001b[38;5;241m.\u001b[39mpower_to_db(ms, ref\u001b[38;5;241m=\u001b[39mnp\u001b[38;5;241m.\u001b[39mmax) \u001b[38;5;66;03m# turns into dB the spectrogram (through log)\u001b[39;00m\n",
      "File \u001b[1;32m~\\anaconda3\\lib\\site-packages\\librosa\\core\\audio.py:176\u001b[0m, in \u001b[0;36mload\u001b[1;34m(path, sr, mono, offset, duration, dtype, res_type)\u001b[0m\n\u001b[0;32m    173\u001b[0m \u001b[38;5;28;01melse\u001b[39;00m:\n\u001b[0;32m    174\u001b[0m     \u001b[38;5;66;03m# Otherwise try soundfile first, and then fall back if necessary\u001b[39;00m\n\u001b[0;32m    175\u001b[0m     \u001b[38;5;28;01mtry\u001b[39;00m:\n\u001b[1;32m--> 176\u001b[0m         y, sr_native \u001b[38;5;241m=\u001b[39m \u001b[43m__soundfile_load\u001b[49m\u001b[43m(\u001b[49m\u001b[43mpath\u001b[49m\u001b[43m,\u001b[49m\u001b[43m \u001b[49m\u001b[43moffset\u001b[49m\u001b[43m,\u001b[49m\u001b[43m \u001b[49m\u001b[43mduration\u001b[49m\u001b[43m,\u001b[49m\u001b[43m \u001b[49m\u001b[43mdtype\u001b[49m\u001b[43m)\u001b[49m\n\u001b[0;32m    178\u001b[0m     \u001b[38;5;28;01mexcept\u001b[39;00m sf\u001b[38;5;241m.\u001b[39mSoundFileRuntimeError \u001b[38;5;28;01mas\u001b[39;00m exc:\n\u001b[0;32m    179\u001b[0m         \u001b[38;5;66;03m# If soundfile failed, try audioread instead\u001b[39;00m\n\u001b[0;32m    180\u001b[0m         \u001b[38;5;28;01mif\u001b[39;00m \u001b[38;5;28misinstance\u001b[39m(path, (\u001b[38;5;28mstr\u001b[39m, pathlib\u001b[38;5;241m.\u001b[39mPurePath)):\n",
      "File \u001b[1;32m~\\anaconda3\\lib\\site-packages\\librosa\\core\\audio.py:209\u001b[0m, in \u001b[0;36m__soundfile_load\u001b[1;34m(path, offset, duration, dtype)\u001b[0m\n\u001b[0;32m    206\u001b[0m     context \u001b[38;5;241m=\u001b[39m path\n\u001b[0;32m    207\u001b[0m \u001b[38;5;28;01melse\u001b[39;00m:\n\u001b[0;32m    208\u001b[0m     \u001b[38;5;66;03m# Otherwise, create the soundfile object\u001b[39;00m\n\u001b[1;32m--> 209\u001b[0m     context \u001b[38;5;241m=\u001b[39m \u001b[43msf\u001b[49m\u001b[38;5;241;43m.\u001b[39;49m\u001b[43mSoundFile\u001b[49m\u001b[43m(\u001b[49m\u001b[43mpath\u001b[49m\u001b[43m)\u001b[49m\n\u001b[0;32m    211\u001b[0m \u001b[38;5;28;01mwith\u001b[39;00m context \u001b[38;5;28;01mas\u001b[39;00m sf_desc:\n\u001b[0;32m    212\u001b[0m     sr_native \u001b[38;5;241m=\u001b[39m sf_desc\u001b[38;5;241m.\u001b[39msamplerate\n",
      "File \u001b[1;32m~\\anaconda3\\lib\\site-packages\\soundfile.py:658\u001b[0m, in \u001b[0;36mSoundFile.__init__\u001b[1;34m(self, file, mode, samplerate, channels, subtype, endian, format, closefd)\u001b[0m\n\u001b[0;32m    655\u001b[0m \u001b[38;5;28mself\u001b[39m\u001b[38;5;241m.\u001b[39m_mode \u001b[38;5;241m=\u001b[39m mode\n\u001b[0;32m    656\u001b[0m \u001b[38;5;28mself\u001b[39m\u001b[38;5;241m.\u001b[39m_info \u001b[38;5;241m=\u001b[39m _create_info_struct(file, mode, samplerate, channels,\n\u001b[0;32m    657\u001b[0m                                  \u001b[38;5;28mformat\u001b[39m, subtype, endian)\n\u001b[1;32m--> 658\u001b[0m \u001b[38;5;28mself\u001b[39m\u001b[38;5;241m.\u001b[39m_file \u001b[38;5;241m=\u001b[39m \u001b[38;5;28;43mself\u001b[39;49m\u001b[38;5;241;43m.\u001b[39;49m\u001b[43m_open\u001b[49m\u001b[43m(\u001b[49m\u001b[43mfile\u001b[49m\u001b[43m,\u001b[49m\u001b[43m \u001b[49m\u001b[43mmode_int\u001b[49m\u001b[43m,\u001b[49m\u001b[43m \u001b[49m\u001b[43mclosefd\u001b[49m\u001b[43m)\u001b[49m\n\u001b[0;32m    659\u001b[0m \u001b[38;5;28;01mif\u001b[39;00m \u001b[38;5;28mset\u001b[39m(mode)\u001b[38;5;241m.\u001b[39missuperset(\u001b[38;5;124m'\u001b[39m\u001b[38;5;124mr+\u001b[39m\u001b[38;5;124m'\u001b[39m) \u001b[38;5;129;01mand\u001b[39;00m \u001b[38;5;28mself\u001b[39m\u001b[38;5;241m.\u001b[39mseekable():\n\u001b[0;32m    660\u001b[0m     \u001b[38;5;66;03m# Move write position to 0 (like in Python file objects)\u001b[39;00m\n\u001b[0;32m    661\u001b[0m     \u001b[38;5;28mself\u001b[39m\u001b[38;5;241m.\u001b[39mseek(\u001b[38;5;241m0\u001b[39m)\n",
      "File \u001b[1;32m~\\anaconda3\\lib\\site-packages\\soundfile.py:1193\u001b[0m, in \u001b[0;36mSoundFile._open\u001b[1;34m(self, file, mode_int, closefd)\u001b[0m\n\u001b[0;32m   1191\u001b[0m \u001b[38;5;250m\u001b[39m\u001b[38;5;124;03m\"\"\"Call the appropriate sf_open*() function from libsndfile.\"\"\"\u001b[39;00m\n\u001b[0;32m   1192\u001b[0m \u001b[38;5;28;01mif\u001b[39;00m \u001b[38;5;28misinstance\u001b[39m(file, (_unicode, \u001b[38;5;28mbytes\u001b[39m)):\n\u001b[1;32m-> 1193\u001b[0m     \u001b[38;5;28;01mif\u001b[39;00m \u001b[43m_os\u001b[49m\u001b[38;5;241;43m.\u001b[39;49m\u001b[43mpath\u001b[49m\u001b[38;5;241;43m.\u001b[39;49m\u001b[43misfile\u001b[49m\u001b[43m(\u001b[49m\u001b[43mfile\u001b[49m\u001b[43m)\u001b[49m:\n\u001b[0;32m   1194\u001b[0m         \u001b[38;5;28;01mif\u001b[39;00m \u001b[38;5;124m'\u001b[39m\u001b[38;5;124mx\u001b[39m\u001b[38;5;124m'\u001b[39m \u001b[38;5;129;01min\u001b[39;00m \u001b[38;5;28mself\u001b[39m\u001b[38;5;241m.\u001b[39mmode:\n\u001b[0;32m   1195\u001b[0m             \u001b[38;5;28;01mraise\u001b[39;00m \u001b[38;5;167;01mOSError\u001b[39;00m(\u001b[38;5;124m\"\u001b[39m\u001b[38;5;124mFile exists: \u001b[39m\u001b[38;5;132;01m{0!r}\u001b[39;00m\u001b[38;5;124m\"\u001b[39m\u001b[38;5;241m.\u001b[39mformat(\u001b[38;5;28mself\u001b[39m\u001b[38;5;241m.\u001b[39mname))\n",
      "File \u001b[1;32m~\\anaconda3\\lib\\genericpath.py:30\u001b[0m, in \u001b[0;36misfile\u001b[1;34m(path)\u001b[0m\n\u001b[0;32m     28\u001b[0m \u001b[38;5;250m\u001b[39m\u001b[38;5;124;03m\"\"\"Test whether a path is a regular file\"\"\"\u001b[39;00m\n\u001b[0;32m     29\u001b[0m \u001b[38;5;28;01mtry\u001b[39;00m:\n\u001b[1;32m---> 30\u001b[0m     st \u001b[38;5;241m=\u001b[39m \u001b[43mos\u001b[49m\u001b[38;5;241;43m.\u001b[39;49m\u001b[43mstat\u001b[49m\u001b[43m(\u001b[49m\u001b[43mpath\u001b[49m\u001b[43m)\u001b[49m\n\u001b[0;32m     31\u001b[0m \u001b[38;5;28;01mexcept\u001b[39;00m (\u001b[38;5;167;01mOSError\u001b[39;00m, \u001b[38;5;167;01mValueError\u001b[39;00m):\n\u001b[0;32m     32\u001b[0m     \u001b[38;5;28;01mreturn\u001b[39;00m \u001b[38;5;28;01mFalse\u001b[39;00m\n",
      "\u001b[1;31mKeyboardInterrupt\u001b[0m: "
     ]
    },
    {
     "data": {
      "image/png": "[encoded data removed]",
      "text/plain": [
       "<Figure size 640x480 with 1 Axes>"
      ]
     },
     "metadata": {},
     "output_type": "display_data"
    }
   ],
   "source": [
    "# cello (cel)\n",
    "create_pngs_from_wavs(r'C:\\Users\\ivanp\\Desktop\\New folder\\IRMAS-TrainingData\\cel', 'Spectrograms/cel')\n",
    "# clarinet (cla)\n",
    "create_pngs_from_wavs(r'C:\\Users\\ivanp\\Desktop\\New folder\\IRMAS-TrainingData\\cla', 'Spectrograms/cla')\n",
    "# flute (flu)\n",
    "create_pngs_from_wavs(r'C:\\Users\\ivanp\\Desktop\\New folder\\IRMAS-TrainingData\\flu', 'Spectrograms/flu')\n",
    "# acoustic guitar (gac)\n",
    "create_pngs_from_wavs(r'C:\\Users\\ivanp\\Desktop\\New folder\\IRMAS-TrainingData\\gac', 'Spectrograms/gac')\n",
    "# electric guitar (gel)\n",
    "create_pngs_from_wavs(r'C:\\Users\\ivanp\\Desktop\\New folder\\IRMAS-TrainingData\\gel', 'Spectrograms/gel')\n",
    "# organ (org)\n",
    "create_pngs_from_wavs(r'C:\\Users\\ivanp\\Desktop\\New folder\\IRMAS-TrainingData\\org', 'Spectrograms/org')\n",
    "# piano (pia)\n",
    "create_pngs_from_wavs(r'C:\\Users\\ivanp\\Desktop\\New folder\\IRMAS-TrainingData\\pia', 'Spectrograms/pia')\n",
    "# trumpet (tru)\n",
    "create_pngs_from_wavs(r'C:\\Users\\ivanp\\Desktop\\New folder\\IRMAS-TrainingData\\tru', 'Spectrograms/tru')\n",
    "# violin (vio)\n",
    "create_pngs_from_wavs(r'C:\\Users\\ivanp\\Desktop\\New folder\\IRMAS-TrainingData\\vio', 'Spectrograms/vio')\n",
    "# human singing voice (voi)\n",
    "create_pngs_from_wavs(r'C:\\Users\\ivanp\\Desktop\\New folder\\IRMAS-TrainingData\\voi', 'Spectrograms/voi')"
   ]
  },
  {
   "cell_type": "markdown",
   "id": "b1af6f16-bf85-403e-bec1-09bbe884b9f2",
   "metadata": {},
   "source": [
    "Define two new helper functions for loading and displaying spectrograms and declare two Python lists — one to store spectrogram images, and another to store class labels."
   ]
  },
  {
   "cell_type": "code",
   "execution_count": null,
   "id": "60eb7077-5afe-4f8e-9342-3349f08cc69c",
   "metadata": {},
   "outputs": [],
   "source": [
    "# Turns images from a directory into an numpy array and gives it a label, returns list of images and list of labels\n",
    "def load_images_from_path(path, label):\n",
    "    images = []\n",
    "    labels = []\n",
    "\n",
    "    for file in os.listdir(path):\n",
    "        images.append(image.img_to_array(image.load_img(os.path.join(path, file), target_size=(224, 224, 3))))\n",
    "        labels.append((label))\n",
    "        \n",
    "    return images, labels\n",
    "x = []\n",
    "y = []"
   ]
  },
  {
   "cell_type": "code",
   "execution_count": null,
   "id": "fee633b4-a971-4160-ac82-445c196ea114",
   "metadata": {},
   "outputs": [],
   "source": [
    "images, labels = load_images_from_path('Spectrograms/cel', 0)\n",
    "x += images\n",
    "y += labels"
   ]
  },
  {
   "cell_type": "code",
   "execution_count": null,
   "id": "e19cd11b-42fc-45f2-a68c-f62cefff319b",
   "metadata": {
    "scrolled": true
   },
   "outputs": [],
   "source": [
    "images, labels = load_images_from_path('Spectrograms/cla', 1)\n",
    "x += images\n",
    "y += labels"
   ]
  },
  {
   "cell_type": "code",
   "execution_count": null,
   "id": "09261a9b-9880-48ae-822a-63ba489d8c1b",
   "metadata": {},
   "outputs": [],
   "source": [
    "images, labels = load_images_from_path('Spectrograms/flu', 2)\n",
    "x += images\n",
    "y += labels"
   ]
  },
  {
   "cell_type": "code",
   "execution_count": null,
   "id": "06479d8e-61e2-498f-a6e6-dfdc5f2490da",
   "metadata": {},
   "outputs": [],
   "source": [
    "images, labels = load_images_from_path('Spectrograms/gac', 3)\n",
    "x += images\n",
    "y += labels"
   ]
  },
  {
   "cell_type": "code",
   "execution_count": null,
   "id": "b31e4a45-11b3-4c18-b1b2-c86ba6f56a27",
   "metadata": {},
   "outputs": [],
   "source": [
    "images, labels = load_images_from_path('Spectrograms/gel', 4)\n",
    "x += images\n",
    "y += labels"
   ]
  },
  {
   "cell_type": "code",
   "execution_count": null,
   "id": "0ea080be-d49b-411f-b7fe-4100010b0959",
   "metadata": {},
   "outputs": [],
   "source": [
    "images, labels = load_images_from_path('Spectrograms/org', 5)\n",
    "x += images\n",
    "y += labels"
   ]
  },
  {
   "cell_type": "code",
   "execution_count": null,
   "id": "fb3b2fe3-1263-433f-bd2b-58eb2253d934",
   "metadata": {},
   "outputs": [],
   "source": [
    "images, labels = load_images_from_path('Spectrograms/pia', 6)\n",
    "x += images\n",
    "y += labels"
   ]
  },
  {
   "cell_type": "code",
   "execution_count": null,
   "id": "9304c592-d0b2-4ba8-af07-40912f062bdb",
   "metadata": {},
   "outputs": [],
   "source": [
    "images, labels = load_images_from_path('Spectrograms/tru', 7)\n",
    "x += images\n",
    "y += labels"
   ]
  },
  {
   "cell_type": "code",
   "execution_count": null,
   "id": "d740868c-dab6-4d5c-ae16-0c54df94f64e",
   "metadata": {},
   "outputs": [],
   "source": [
    "images, labels = load_images_from_path('Spectrograms/vio', 8)\n",
    "x += images\n",
    "y += labels"
   ]
  },
  {
   "cell_type": "code",
   "execution_count": null,
   "id": "6d131ebc-b19e-48ac-87cc-9c8d65f4e1c4",
   "metadata": {},
   "outputs": [],
   "source": [
    "images, labels = load_images_from_path('Spectrograms/voi', 9)\n",
    "x += images\n",
    "y += labels"
   ]
  },
  {
   "cell_type": "markdown",
   "id": "e4c7dda1-87a6-48c9-901b-4810897eb622",
   "metadata": {},
   "source": [
    "Split the images and labels into two datasets — one for training, and one for testing. Then divide the pixel values by 255 and one-hot-encode the labels using Keras's to_categorical function."
   ]
  },
  {
   "cell_type": "code",
   "execution_count": null,
   "id": "7d2f7366-6ecd-4e57-bc4d-0dfa7e8d5324",
   "metadata": {},
   "outputs": [],
   "source": [
    "cargar el wav en un numpy arrray y hago el slicing\n",
    "\n",
    "\n",
    "transformada de fourier (como se usa, entender como se calcula, que y por qué)\n",
    "\n"
   ]
  },
  {
   "cell_type": "code",
   "execution_count": null,
   "id": "b90a7f11-54b1-41d3-a301-025555af211a",
   "metadata": {},
   "outputs": [],
   "source": [
    "x_train, x_test, y_train, y_test = train_test_split(x, y, stratify=y, test_size=0.3, random_state=0)\n",
    "\n",
    "x_train_norm = np.array(x_train) / 255\n",
    "x_test_norm = np.array(x_test) / 255\n",
    "\n",
    "y_train_encoded = to_categorical(y_train)\n",
    "y_test_encoded = to_categorical(y_test)"
   ]
  },
  {
   "cell_type": "code",
   "execution_count": null,
   "id": "d09a13bb-0092-4cd4-b1ad-b255f36b8e32",
   "metadata": {},
   "outputs": [],
   "source": [
    "print(x_train_norm.shape)\n",
    "print(y_train_encoded.shape)\n",
    "print(x_test_norm.shape)\n",
    "print(y_test_encoded.shape)"
   ]
  },
  {
   "cell_type": "markdown",
   "id": "0fd268eb-a86b-4dda-bfd7-3a35c7883409",
   "metadata": {},
   "source": [
    "Create model"
   ]
  },
  {
   "cell_type": "code",
   "execution_count": null,
   "id": "6413ada9-d58c-497a-8c84-bd97ba6a34f4",
   "metadata": {},
   "outputs": [],
   "source": [
    "model = Sequential()\n",
    "\n",
    "# 1st layer\n",
    "model.add(Conv2D(64, (3, 3), activation='relu', input_shape=(224, 224, 3)))\n",
    "model.add(MaxPooling2D(2, 2))\n",
    "model.add(Conv2D(64, (3, 3), activation='relu'))\n",
    "model.add(MaxPooling2D(2, 2))\n",
    "model.add(Flatten())\n",
    "model.add(Dense(64, activation='relu'))\n",
    "#Last layer: REMINDER --> this one the 10 determines the number of labels (classify)\n",
    "model.add(Dense(10, activation='softmax'))\n",
    "model.compile(optimizer='adam', loss='categorical_crossentropy', metrics=['accuracy'])\n",
    "model.summary()"
   ]
  },
  {
   "cell_type": "markdown",
   "id": "faebd1b3-01bf-4af3-9a1a-e1a135d9db1c",
   "metadata": {},
   "source": [
    "Train the CNN and save the history object returned by fit in a local variable"
   ]
  },
  {
   "cell_type": "code",
   "execution_count": null,
   "id": "c1b7b41d-09ed-4096-8688-06c9c73c52a0",
   "metadata": {},
   "outputs": [],
   "source": [
    "print(x_train_norm.shape)\n",
    "print(y_train_encoded.shape)\n",
    "print(x_test_norm.shape)\n",
    "print(y_test_encoded.shape)"
   ]
  },
  {
   "cell_type": "code",
   "execution_count": null,
   "id": "27a263d4-00e3-4acd-93ca-8d40873f654d",
   "metadata": {},
   "outputs": [],
   "source": [
    "hist = model.fit(x_train_norm, y_train_encoded, validation_data=(x_test_norm, y_test_encoded), batch_size=10, epochs=10)"
   ]
  },
  {
   "cell_type": "code",
   "execution_count": null,
   "id": "3f1130f3-c7f3-4503-ab00-0c826f7cf029",
   "metadata": {},
   "outputs": [],
   "source": [
    "acc = hist.history['accuracy']\n",
    "val_acc = hist.history['val_accuracy']\n",
    "epochs = range(1, len(acc) + 1)\n",
    "\n",
    "plt.plot(epochs, acc, '-', label='Training Accuracy')\n",
    "plt.plot(epochs, val_acc, ':', label='Validation Accuracy')\n",
    "plt.title('Training and Validation Accuracy')\n",
    "plt.xlabel('Epoch')\n",
    "plt.ylabel('Accuracy')\n",
    "plt.legend(loc='lower right')\n",
    "plt.plot()"
   ]
  },
  {
   "cell_type": "markdown",
   "id": "f5ed05ca-a062-4f99-9c31-b3b5625190e4",
   "metadata": {},
   "source": [
    "As we can see, the model overfits, therefore we will try to get an image from a piece of N seconds from the audio, for each audio, train the model and see if the overfitting is lower"
   ]
  },
  {
   "cell_type": "markdown",
   "id": "83ac754f-0deb-4562-8310-fb3e90a516a7",
   "metadata": {},
   "source": [
    "# Model_2"
   ]
  },
  {
   "cell_type": "code",
   "execution_count": 128,
   "id": "1fdde1e4-7128-4868-82c1-14d0a10fe2c4",
   "metadata": {},
   "outputs": [],
   "source": [
    "# https://stackoverflow.com/questions/16778878/python-write-a-wav-file-into-numpy-float-array \n",
    "def wav_to_nparray(input_path):\n",
    "    files_dir = os.listdir(input_path)\n",
    "    output = []\n",
    "    for file in files_dir:\n",
    "        if file.endswith(\".wav\"):\n",
    "            file_path = os.path.join(input_path, file)\n",
    "            sr, data = wavfile.read(file_path)\n",
    "            output.append(data)\n",
    "    return output"
   ]
  },
  {
   "cell_type": "code",
   "execution_count": 129,
   "id": "c17f43a3-b3df-4787-a2ab-6565fa5ba35e",
   "metadata": {},
   "outputs": [],
   "source": [
    "#podríamos poner como parámetros de la función el start y end time\n",
    "def segmentation(audio_file):\n",
    "    start_time = 2  \n",
    "    end_time = 3  \n",
    "    sr = 44100 #frecuencia de muestreo (sampling rate) standard, confirmada con el datas \"format sampled at 44.1kHz\" \n",
    "    start_sample = int(start_time * sr) \n",
    "    end_sample = int(end_time * sr)\n",
    "    segment = audio_file[start_sample:end_sample, :] # 44100 * cuando queremos que empiece y acabe, nos da el segmento de audio que queremos en valores del array\n",
    "    return segment"
   ]
  },
  {
   "cell_type": "code",
   "execution_count": 130,
   "id": "e7bd6017-fa8a-40e8-8c73-bfd85a8b99fa",
   "metadata": {},
   "outputs": [
    {
     "data": {
      "text/plain": [
       "88200"
      ]
     },
     "execution_count": 130,
     "metadata": {},
     "output_type": "execute_result"
    }
   ],
   "source": [
    "a = 44100*2\n",
    "44100*2"
   ]
  },
  {
   "cell_type": "code",
   "execution_count": 131,
   "id": "a71022bf-27db-42a7-96db-6deade31a7d8",
   "metadata": {},
   "outputs": [
    {
     "data": {
      "text/plain": [
       "132300"
      ]
     },
     "execution_count": 131,
     "metadata": {},
     "output_type": "execute_result"
    }
   ],
   "source": [
    "b = 44100*3\n",
    "44100*3"
   ]
  },
  {
   "cell_type": "code",
   "execution_count": 132,
   "id": "d4170bc5-1922-4861-b16c-37c72f7885b0",
   "metadata": {},
   "outputs": [],
   "source": [
    "numeros = list(range(1, 101))"
   ]
  },
  {
   "cell_type": "code",
   "execution_count": 133,
   "id": "1ba355a4-1e65-4ac7-953d-28c877d4e810",
   "metadata": {},
   "outputs": [],
   "source": [
    "start1 = 2*30\n",
    "end1 = 3*30"
   ]
  },
  {
   "cell_type": "code",
   "execution_count": 134,
   "id": "539f743c-3c52-460d-98b2-792cc7f5b274",
   "metadata": {},
   "outputs": [
    {
     "name": "stdout",
     "output_type": "stream",
     "text": [
      "30\n"
     ]
    }
   ],
   "source": [
    "numeros1 = numeros[start1:end1]\n",
    "print(len(numeros1))"
   ]
  },
  {
   "cell_type": "code",
   "execution_count": 135,
   "id": "e379eadf-7e07-4473-a8ef-bf0b30293c50",
   "metadata": {},
   "outputs": [
    {
     "data": {
      "text/plain": [
       "44100"
      ]
     },
     "execution_count": 135,
     "metadata": {},
     "output_type": "execute_result"
    }
   ],
   "source": [
    "b-a"
   ]
  },
  {
   "cell_type": "code",
   "execution_count": 136,
   "id": "a748eb0e-45d0-4aea-94c7-3b29ccac7370",
   "metadata": {},
   "outputs": [],
   "source": [
    "# Representación del segmento de audio\n",
    "def graph_audio(audio):\n",
    "    plt.figure(figsize=(18, 3))\n",
    "    plt.plot(audio[:, 0], label='Channel 1')\n",
    "    plt.plot(audio[:, 1], label='Channel 2')\n",
    "    # plt.title('Visualización del Tercer Segundo del Array \"prueba\"')\n",
    "    plt.xlabel('Samples') # de 0 a 44100 ya que tomamos un segundo de muestra\n",
    "    plt.ylabel('Amplitude')\n",
    "    plt.legend()\n",
    "    plt.show()"
   ]
  },
  {
   "cell_type": "code",
   "execution_count": 137,
   "id": "d40dcada-cf8a-4596-b506-af72af978f78",
   "metadata": {},
   "outputs": [],
   "source": [
    "# We take the lenght of all the files so we make sure we take the same amount of samples when we train the model\n",
    "\n",
    "def get_folder_lengths(base_path):\n",
    "    folders_path = os.listdir(base_path)\n",
    "    folder_lengths = {}\n",
    "\n",
    "    for folder in folders_path:\n",
    "        if folder != \"README.txt\":\n",
    "            folder_path = os.path.join(base_path, folder)\n",
    "            folder_contents = os.listdir(folder_path)\n",
    "            folder_lengths[folder] = len(folder_contents)\n",
    "    \n",
    "    return folder_lengths"
   ]
  },
  {
   "cell_type": "code",
   "execution_count": 138,
   "id": "86bd4fa3-398f-4e42-864f-3ce471f72705",
   "metadata": {},
   "outputs": [
    {
     "data": {
      "text/plain": [
       "{'cel': 388,\n",
       " 'cla': 505,\n",
       " 'flu': 451,\n",
       " 'gac': 637,\n",
       " 'gel': 760,\n",
       " 'org': 682,\n",
       " 'pia': 721,\n",
       " 'sax': 626,\n",
       " 'tru': 577,\n",
       " 'vio': 580,\n",
       " 'voi': 778}"
      ]
     },
     "execution_count": 138,
     "metadata": {},
     "output_type": "execute_result"
    }
   ],
   "source": [
    "get_folder_lengths(r\"X:\\CODING\\PROJECTS\\AUDIO_PROJECT\\New folder\\IRMAS-TrainingData\")"
   ]
  },
  {
   "cell_type": "markdown",
   "id": "d731404e-3d36-491e-bdad-44c9c56b62de",
   "metadata": {},
   "source": [
    "We can see here that the lowest of samples are in the ``cel`` folder, therefore that will determine the number of samples taht we will use to train the model"
   ]
  },
  {
   "cell_type": "code",
   "execution_count": 139,
   "id": "dda8761b-2e7d-41fc-a144-49fbf7cdb22c",
   "metadata": {},
   "outputs": [],
   "source": [
    "def segment_audios(input_path, label):\n",
    "    segmented_track = []\n",
    "    labels = []\n",
    "    audios = wav_to_nparray(input_path)\n",
    "    for i, track in enumerate(audios):\n",
    "        if i >= 388:\n",
    "            break\n",
    "        segmented_track.append(segmentation(track))\n",
    "        labels.append(label)\n",
    "    return segmented_track, labels"
   ]
  },
  {
   "cell_type": "code",
   "execution_count": 140,
   "id": "cacfa149-31f3-470c-b6a1-c8399184766c",
   "metadata": {},
   "outputs": [],
   "source": [
    "def process_all_instruments(base_path):\n",
    "    x = []\n",
    "    y = []\n",
    "    \n",
    "    instruments = os.listdir(base_path)\n",
    "    \n",
    "    for label, instrument in enumerate(instruments):\n",
    "        if instrument != \"README.txt\":\n",
    "            instrument_path = os.path.join(base_path, instrument)\n",
    "            array, label_array = segment_audios(instrument_path, label)\n",
    "            x += array\n",
    "            y += label_array\n",
    "    \n",
    "    return x, y"
   ]
  },
  {
   "cell_type": "code",
   "execution_count": 141,
   "id": "204f741e-0de6-4d59-bab1-ee6eba6b42ef",
   "metadata": {},
   "outputs": [],
   "source": [
    "x = []\n",
    "y = []\n",
    "x, y = process_all_instruments(r\"X:\\CODING\\PROJECTS\\AUDIO_PROJECT\\New folder\\IRMAS-TrainingData\")"
   ]
  },
  {
   "cell_type": "code",
   "execution_count": 142,
   "id": "570ae255-80fd-4d49-a512-1b9733361cd4",
   "metadata": {},
   "outputs": [
    {
     "name": "stdout",
     "output_type": "stream",
     "text": [
      "len x (samples) = 4268\n",
      "len y (labels) = 4268\n"
     ]
    }
   ],
   "source": [
    "print(f\"len x (samples) = {len(x)}\")\n",
    "print(f\"len y (labels) = {len(y)}\")"
   ]
  },
  {
   "cell_type": "code",
   "execution_count": 143,
   "id": "c6e41a45-aa72-490f-aa2b-4508654efd9d",
   "metadata": {},
   "outputs": [
    {
     "data": {
      "text/plain": [
       "(44099, 2)"
      ]
     },
     "execution_count": 143,
     "metadata": {},
     "output_type": "execute_result"
    }
   ],
   "source": [
    "x[0].shape"
   ]
  },
  {
   "cell_type": "code",
   "execution_count": 144,
   "id": "43069592-55f8-4a8e-bc33-19c3effd2403",
   "metadata": {},
   "outputs": [
    {
     "data": {
      "image/png": "[encoded data removed]",
      "text/plain": [
       "<Figure size 1800x300 with 1 Axes>"
      ]
     },
     "metadata": {},
     "output_type": "display_data"
    }
   ],
   "source": [
    "graph_audio(x[0])"
   ]
  },
  {
   "cell_type": "code",
   "execution_count": 145,
   "id": "db57b873-098c-4757-ae47-ad3aceaa76d8",
   "metadata": {},
   "outputs": [
    {
     "data": {
      "text/plain": [
       "44099"
      ]
     },
     "execution_count": 145,
     "metadata": {},
     "output_type": "execute_result"
    }
   ],
   "source": [
    "len(x[3601])"
   ]
  },
  {
   "cell_type": "code",
   "execution_count": 146,
   "id": "d3b731a0-afda-460d-9887-3baadb3e3bd5",
   "metadata": {},
   "outputs": [
    {
     "name": "stdout",
     "output_type": "stream",
     "text": [
      "Unique labels: [ 0  1  2  3  4  5  6  8  9 10 11]\n"
     ]
    }
   ],
   "source": [
    "print(\"Unique labels:\", np.unique(y))"
   ]
  },
  {
   "cell_type": "code",
   "execution_count": 148,
   "id": "1dbdc1ce-9710-433c-a90c-0dca640d4e09",
   "metadata": {},
   "outputs": [],
   "source": [
    "# Normalizamos los datos de entrada. Dividir por el máximo valor absoluto (np.max(np.abs(x))) asegura que los datos de audio estén en un rango adecuado para el modelo, que es [-1, 1]\n",
    "x = x / np.max(np.abs(x))\n",
    "y = to_categorical(y, num_classes=12)"
   ]
  },
  {
   "cell_type": "code",
   "execution_count": null,
   "id": "7038ee73-b66e-40e7-b904-995379500622",
   "metadata": {},
   "outputs": [],
   "source": [
    "# Divide in train/test\n",
    "x_train, x_test, y_train, y_test = train_test_split(x, y, test_size=0.25, random_state=42)"
   ]
  },
  {
   "cell_type": "code",
   "execution_count": null,
   "id": "2c94bc43-8408-4066-97ee-ca62616497e5",
   "metadata": {},
   "outputs": [],
   "source": []
  },
  {
   "cell_type": "code",
   "execution_count": 120,
   "id": "ce0c0ca4-b199-420e-b922-ef4d8b6aac09",
   "metadata": {},
   "outputs": [
    {
     "data": {
      "text/plain": [
       "(3201, 44099, 2)"
      ]
     },
     "execution_count": 120,
     "metadata": {},
     "output_type": "execute_result"
    }
   ],
   "source": [
    "x_train.shape"
   ]
  },
  {
   "cell_type": "code",
   "execution_count": 121,
   "id": "45b44a21-9a71-4621-a64f-261fdc69b1fc",
   "metadata": {},
   "outputs": [
    {
     "data": {
      "text/plain": [
       "(4268, 44099, 2)"
      ]
     },
     "execution_count": 121,
     "metadata": {},
     "output_type": "execute_result"
    }
   ],
   "source": [
    "x.shape"
   ]
  },
  {
   "cell_type": "code",
   "execution_count": null,
   "id": "8b9d9ec2-2bf0-4806-afef-98e5104c687b",
   "metadata": {},
   "outputs": [],
   "source": []
  },
  {
   "cell_type": "code",
   "execution_count": null,
   "id": "881b4ff3-f648-42a3-a351-854d8e112d0a",
   "metadata": {},
   "outputs": [],
   "source": []
  },
  {
   "cell_type": "code",
   "execution_count": 122,
   "id": "5678a657-c8e7-418b-abc3-29c6312e53f0",
   "metadata": {},
   "outputs": [],
   "source": [
    "# Create model\n",
    "model = Sequential()\n",
    "\n",
    "# Adding layers\n",
    "model.add(layers.Conv1D(32, 20, activation='relu', input_shape=(44099, 2)))  #para img kernel de 5 7 9 suele funcionar. Para audio --> 15 min\n",
    "model.add(layers.MaxPooling1D(4)) # maxpooling divide entre (N) la muestra. Probar con  3 4 o 5 cada capa\n",
    "\n",
    "# 50>15>10>5 en las capas\n",
    "\n",
    "model.add(layers.Conv1D(64, 3, activation='relu'))\n",
    "model.add(layers.MaxPooling1D(4))\n",
    "\n",
    "model.add(layers.Conv1D(128, 3, activation='relu'))\n",
    "model.add(layers.MaxPooling1D(4))\n",
    "\n",
    "model.add(layers.Flatten())\n",
    "model.add(layers.Dense(64, activation='relu'))\n",
    "\n",
    "model.add(layers.Dense(128, activation='relu'))\n",
    "\n",
    "model.add(layers.Dense(256, activation='relu'))\n",
    "\n",
    "model.add(layers.Dense(12, activation='softmax', )) # categorical loss entrophy \n"
   ]
  },
  {
   "cell_type": "code",
   "execution_count": 123,
   "id": "cc0bf356-18ba-4bb4-b193-25a76b01841f",
   "metadata": {},
   "outputs": [],
   "source": [
    "# Compilamos el modelo\n",
    "model.compile(optimizer='rmsprop',\n",
    "              loss='categorical_crossentropy',\n",
    "              metrics=['accuracy'])"
   ]
  },
  {
   "cell_type": "code",
   "execution_count": 124,
   "id": "fef7c6b4-2f39-426f-9cca-5fc8f75d8c8b",
   "metadata": {},
   "outputs": [
    {
     "data": {
      "text/html": [
       "<pre style=\"white-space:pre;overflow-x:auto;line-height:normal;font-family:Menlo,'DejaVu Sans Mono',consolas,'Courier New',monospace\"><span style=\"font-weight: bold\">Model: \"sequential_5\"</span>\n",
       "</pre>\n"
      ],
      "text/plain": [
       "\u001b[1mModel: \"sequential_5\"\u001b[0m\n"
      ]
     },
     "metadata": {},
     "output_type": "display_data"
    },
    {
     "data": {
      "text/html": [
       "<pre style=\"white-space:pre;overflow-x:auto;line-height:normal;font-family:Menlo,'DejaVu Sans Mono',consolas,'Courier New',monospace\">┏━━━━━━━━━━━━━━━━━━━━━━━━━━━━━━━━━┳━━━━━━━━━━━━━━━━━━━━━━━━┳━━━━━━━━━━━━━━━┓\n",
       "┃<span style=\"font-weight: bold\"> Layer (type)                    </span>┃<span style=\"font-weight: bold\"> Output Shape           </span>┃<span style=\"font-weight: bold\">       Param # </span>┃\n",
       "┡━━━━━━━━━━━━━━━━━━━━━━━━━━━━━━━━━╇━━━━━━━━━━━━━━━━━━━━━━━━╇━━━━━━━━━━━━━━━┩\n",
       "│ conv1d_15 (<span style=\"color: #0087ff; text-decoration-color: #0087ff\">Conv1D</span>)              │ (<span style=\"color: #00d7ff; text-decoration-color: #00d7ff\">None</span>, <span style=\"color: #00af00; text-decoration-color: #00af00\">44080</span>, <span style=\"color: #00af00; text-decoration-color: #00af00\">32</span>)      │         <span style=\"color: #00af00; text-decoration-color: #00af00\">1,312</span> │\n",
       "├─────────────────────────────────┼────────────────────────┼───────────────┤\n",
       "│ max_pooling1d_15 (<span style=\"color: #0087ff; text-decoration-color: #0087ff\">MaxPooling1D</span>) │ (<span style=\"color: #00d7ff; text-decoration-color: #00d7ff\">None</span>, <span style=\"color: #00af00; text-decoration-color: #00af00\">11020</span>, <span style=\"color: #00af00; text-decoration-color: #00af00\">32</span>)      │             <span style=\"color: #00af00; text-decoration-color: #00af00\">0</span> │\n",
       "├─────────────────────────────────┼────────────────────────┼───────────────┤\n",
       "│ conv1d_16 (<span style=\"color: #0087ff; text-decoration-color: #0087ff\">Conv1D</span>)              │ (<span style=\"color: #00d7ff; text-decoration-color: #00d7ff\">None</span>, <span style=\"color: #00af00; text-decoration-color: #00af00\">11018</span>, <span style=\"color: #00af00; text-decoration-color: #00af00\">64</span>)      │         <span style=\"color: #00af00; text-decoration-color: #00af00\">6,208</span> │\n",
       "├─────────────────────────────────┼────────────────────────┼───────────────┤\n",
       "│ max_pooling1d_16 (<span style=\"color: #0087ff; text-decoration-color: #0087ff\">MaxPooling1D</span>) │ (<span style=\"color: #00d7ff; text-decoration-color: #00d7ff\">None</span>, <span style=\"color: #00af00; text-decoration-color: #00af00\">2754</span>, <span style=\"color: #00af00; text-decoration-color: #00af00\">64</span>)       │             <span style=\"color: #00af00; text-decoration-color: #00af00\">0</span> │\n",
       "├─────────────────────────────────┼────────────────────────┼───────────────┤\n",
       "│ conv1d_17 (<span style=\"color: #0087ff; text-decoration-color: #0087ff\">Conv1D</span>)              │ (<span style=\"color: #00d7ff; text-decoration-color: #00d7ff\">None</span>, <span style=\"color: #00af00; text-decoration-color: #00af00\">2752</span>, <span style=\"color: #00af00; text-decoration-color: #00af00\">128</span>)      │        <span style=\"color: #00af00; text-decoration-color: #00af00\">24,704</span> │\n",
       "├─────────────────────────────────┼────────────────────────┼───────────────┤\n",
       "│ max_pooling1d_17 (<span style=\"color: #0087ff; text-decoration-color: #0087ff\">MaxPooling1D</span>) │ (<span style=\"color: #00d7ff; text-decoration-color: #00d7ff\">None</span>, <span style=\"color: #00af00; text-decoration-color: #00af00\">688</span>, <span style=\"color: #00af00; text-decoration-color: #00af00\">128</span>)       │             <span style=\"color: #00af00; text-decoration-color: #00af00\">0</span> │\n",
       "├─────────────────────────────────┼────────────────────────┼───────────────┤\n",
       "│ flatten_5 (<span style=\"color: #0087ff; text-decoration-color: #0087ff\">Flatten</span>)             │ (<span style=\"color: #00d7ff; text-decoration-color: #00d7ff\">None</span>, <span style=\"color: #00af00; text-decoration-color: #00af00\">88064</span>)          │             <span style=\"color: #00af00; text-decoration-color: #00af00\">0</span> │\n",
       "├─────────────────────────────────┼────────────────────────┼───────────────┤\n",
       "│ dense_20 (<span style=\"color: #0087ff; text-decoration-color: #0087ff\">Dense</span>)                │ (<span style=\"color: #00d7ff; text-decoration-color: #00d7ff\">None</span>, <span style=\"color: #00af00; text-decoration-color: #00af00\">64</span>)             │     <span style=\"color: #00af00; text-decoration-color: #00af00\">5,636,160</span> │\n",
       "├─────────────────────────────────┼────────────────────────┼───────────────┤\n",
       "│ dense_21 (<span style=\"color: #0087ff; text-decoration-color: #0087ff\">Dense</span>)                │ (<span style=\"color: #00d7ff; text-decoration-color: #00d7ff\">None</span>, <span style=\"color: #00af00; text-decoration-color: #00af00\">128</span>)            │         <span style=\"color: #00af00; text-decoration-color: #00af00\">8,320</span> │\n",
       "├─────────────────────────────────┼────────────────────────┼───────────────┤\n",
       "│ dense_22 (<span style=\"color: #0087ff; text-decoration-color: #0087ff\">Dense</span>)                │ (<span style=\"color: #00d7ff; text-decoration-color: #00d7ff\">None</span>, <span style=\"color: #00af00; text-decoration-color: #00af00\">256</span>)            │        <span style=\"color: #00af00; text-decoration-color: #00af00\">33,024</span> │\n",
       "├─────────────────────────────────┼────────────────────────┼───────────────┤\n",
       "│ dense_23 (<span style=\"color: #0087ff; text-decoration-color: #0087ff\">Dense</span>)                │ (<span style=\"color: #00d7ff; text-decoration-color: #00d7ff\">None</span>, <span style=\"color: #00af00; text-decoration-color: #00af00\">12</span>)             │         <span style=\"color: #00af00; text-decoration-color: #00af00\">3,084</span> │\n",
       "└─────────────────────────────────┴────────────────────────┴───────────────┘\n",
       "</pre>\n"
      ],
      "text/plain": [
       "┏━━━━━━━━━━━━━━━━━━━━━━━━━━━━━━━━━┳━━━━━━━━━━━━━━━━━━━━━━━━┳━━━━━━━━━━━━━━━┓\n",
       "┃\u001b[1m \u001b[0m\u001b[1mLayer (type)                   \u001b[0m\u001b[1m \u001b[0m┃\u001b[1m \u001b[0m\u001b[1mOutput Shape          \u001b[0m\u001b[1m \u001b[0m┃\u001b[1m \u001b[0m\u001b[1m      Param #\u001b[0m\u001b[1m \u001b[0m┃\n",
       "┡━━━━━━━━━━━━━━━━━━━━━━━━━━━━━━━━━╇━━━━━━━━━━━━━━━━━━━━━━━━╇━━━━━━━━━━━━━━━┩\n",
       "│ conv1d_15 (\u001b[38;5;33mConv1D\u001b[0m)              │ (\u001b[38;5;45mNone\u001b[0m, \u001b[38;5;34m44080\u001b[0m, \u001b[38;5;34m32\u001b[0m)      │         \u001b[38;5;34m1,312\u001b[0m │\n",
       "├─────────────────────────────────┼────────────────────────┼───────────────┤\n",
       "│ max_pooling1d_15 (\u001b[38;5;33mMaxPooling1D\u001b[0m) │ (\u001b[38;5;45mNone\u001b[0m, \u001b[38;5;34m11020\u001b[0m, \u001b[38;5;34m32\u001b[0m)      │             \u001b[38;5;34m0\u001b[0m │\n",
       "├─────────────────────────────────┼────────────────────────┼───────────────┤\n",
       "│ conv1d_16 (\u001b[38;5;33mConv1D\u001b[0m)              │ (\u001b[38;5;45mNone\u001b[0m, \u001b[38;5;34m11018\u001b[0m, \u001b[38;5;34m64\u001b[0m)      │         \u001b[38;5;34m6,208\u001b[0m │\n",
       "├─────────────────────────────────┼────────────────────────┼───────────────┤\n",
       "│ max_pooling1d_16 (\u001b[38;5;33mMaxPooling1D\u001b[0m) │ (\u001b[38;5;45mNone\u001b[0m, \u001b[38;5;34m2754\u001b[0m, \u001b[38;5;34m64\u001b[0m)       │             \u001b[38;5;34m0\u001b[0m │\n",
       "├─────────────────────────────────┼────────────────────────┼───────────────┤\n",
       "│ conv1d_17 (\u001b[38;5;33mConv1D\u001b[0m)              │ (\u001b[38;5;45mNone\u001b[0m, \u001b[38;5;34m2752\u001b[0m, \u001b[38;5;34m128\u001b[0m)      │        \u001b[38;5;34m24,704\u001b[0m │\n",
       "├─────────────────────────────────┼────────────────────────┼───────────────┤\n",
       "│ max_pooling1d_17 (\u001b[38;5;33mMaxPooling1D\u001b[0m) │ (\u001b[38;5;45mNone\u001b[0m, \u001b[38;5;34m688\u001b[0m, \u001b[38;5;34m128\u001b[0m)       │             \u001b[38;5;34m0\u001b[0m │\n",
       "├─────────────────────────────────┼────────────────────────┼───────────────┤\n",
       "│ flatten_5 (\u001b[38;5;33mFlatten\u001b[0m)             │ (\u001b[38;5;45mNone\u001b[0m, \u001b[38;5;34m88064\u001b[0m)          │             \u001b[38;5;34m0\u001b[0m │\n",
       "├─────────────────────────────────┼────────────────────────┼───────────────┤\n",
       "│ dense_20 (\u001b[38;5;33mDense\u001b[0m)                │ (\u001b[38;5;45mNone\u001b[0m, \u001b[38;5;34m64\u001b[0m)             │     \u001b[38;5;34m5,636,160\u001b[0m │\n",
       "├─────────────────────────────────┼────────────────────────┼───────────────┤\n",
       "│ dense_21 (\u001b[38;5;33mDense\u001b[0m)                │ (\u001b[38;5;45mNone\u001b[0m, \u001b[38;5;34m128\u001b[0m)            │         \u001b[38;5;34m8,320\u001b[0m │\n",
       "├─────────────────────────────────┼────────────────────────┼───────────────┤\n",
       "│ dense_22 (\u001b[38;5;33mDense\u001b[0m)                │ (\u001b[38;5;45mNone\u001b[0m, \u001b[38;5;34m256\u001b[0m)            │        \u001b[38;5;34m33,024\u001b[0m │\n",
       "├─────────────────────────────────┼────────────────────────┼───────────────┤\n",
       "│ dense_23 (\u001b[38;5;33mDense\u001b[0m)                │ (\u001b[38;5;45mNone\u001b[0m, \u001b[38;5;34m12\u001b[0m)             │         \u001b[38;5;34m3,084\u001b[0m │\n",
       "└─────────────────────────────────┴────────────────────────┴───────────────┘\n"
      ]
     },
     "metadata": {},
     "output_type": "display_data"
    },
    {
     "data": {
      "text/html": [
       "<pre style=\"white-space:pre;overflow-x:auto;line-height:normal;font-family:Menlo,'DejaVu Sans Mono',consolas,'Courier New',monospace\"><span style=\"font-weight: bold\"> Total params: </span><span style=\"color: #00af00; text-decoration-color: #00af00\">5,712,812</span> (21.79 MB)\n",
       "</pre>\n"
      ],
      "text/plain": [
       "\u001b[1m Total params: \u001b[0m\u001b[38;5;34m5,712,812\u001b[0m (21.79 MB)\n"
      ]
     },
     "metadata": {},
     "output_type": "display_data"
    },
    {
     "data": {
      "text/html": [
       "<pre style=\"white-space:pre;overflow-x:auto;line-height:normal;font-family:Menlo,'DejaVu Sans Mono',consolas,'Courier New',monospace\"><span style=\"font-weight: bold\"> Trainable params: </span><span style=\"color: #00af00; text-decoration-color: #00af00\">5,712,812</span> (21.79 MB)\n",
       "</pre>\n"
      ],
      "text/plain": [
       "\u001b[1m Trainable params: \u001b[0m\u001b[38;5;34m5,712,812\u001b[0m (21.79 MB)\n"
      ]
     },
     "metadata": {},
     "output_type": "display_data"
    },
    {
     "data": {
      "text/html": [
       "<pre style=\"white-space:pre;overflow-x:auto;line-height:normal;font-family:Menlo,'DejaVu Sans Mono',consolas,'Courier New',monospace\"><span style=\"font-weight: bold\"> Non-trainable params: </span><span style=\"color: #00af00; text-decoration-color: #00af00\">0</span> (0.00 B)\n",
       "</pre>\n"
      ],
      "text/plain": [
       "\u001b[1m Non-trainable params: \u001b[0m\u001b[38;5;34m0\u001b[0m (0.00 B)\n"
      ]
     },
     "metadata": {},
     "output_type": "display_data"
    }
   ],
   "source": [
    "model.summary()"
   ]
  },
  {
   "cell_type": "code",
   "execution_count": 125,
   "id": "e0d8864d-83be-4975-ae80-be7079b130f6",
   "metadata": {},
   "outputs": [
    {
     "name": "stdout",
     "output_type": "stream",
     "text": [
      "x_train = (3201, 44099, 2)\n",
      "y_train = (3201, 12, 11, 12)\n",
      "x_test = (1067, 44099, 2)\n",
      "y_test = (1067, 12, 11, 12)\n"
     ]
    }
   ],
   "source": [
    "print(f\"x_train = {(x_train.shape)}\")\n",
    "print(f\"y_train = {y_train.shape}\")\n",
    "print(f\"x_test = {x_test.shape}\")\n",
    "print(f\"y_test = {y_test.shape}\")"
   ]
  },
  {
   "cell_type": "code",
   "execution_count": 126,
   "id": "5fad4fee-bc13-4f83-91fc-39d28f19ea18",
   "metadata": {},
   "outputs": [
    {
     "name": "stdout",
     "output_type": "stream",
     "text": [
      "x_train = 3201\n",
      "y_train = 3201\n",
      "x_test = 1067\n",
      "y_test = 1067\n"
     ]
    }
   ],
   "source": [
    "print(f\"x_train = {len(x_train)}\")\n",
    "print(f\"y_train = {len(y_train)}\")\n",
    "print(f\"x_test = {len(x_test)}\")\n",
    "print(f\"y_test = {len(y_test)}\")"
   ]
  },
  {
   "cell_type": "code",
   "execution_count": 127,
   "id": "33eeeae5-7236-4a93-afcc-811ee66b5c27",
   "metadata": {},
   "outputs": [
    {
     "name": "stdout",
     "output_type": "stream",
     "text": [
      "Epoch 1/10\n"
     ]
    },
    {
     "ename": "ValueError",
     "evalue": "Arguments `target` and `output` must have the same rank (ndim). Received: target.shape=(None, 12, 11, 12), output.shape=(None, 12)",
     "output_type": "error",
     "traceback": [
      "\u001b[1;31m---------------------------------------------------------------------------\u001b[0m",
      "\u001b[1;31mValueError\u001b[0m                                Traceback (most recent call last)",
      "Cell \u001b[1;32mIn[127], line 2\u001b[0m\n\u001b[0;32m      1\u001b[0m \u001b[38;5;66;03m# Entrenamos el modelo\u001b[39;00m\n\u001b[1;32m----> 2\u001b[0m \u001b[43mmodel\u001b[49m\u001b[38;5;241;43m.\u001b[39;49m\u001b[43mfit\u001b[49m\u001b[43m(\u001b[49m\u001b[43mx_train\u001b[49m\u001b[43m,\u001b[49m\u001b[43m \u001b[49m\u001b[43my_train\u001b[49m\u001b[43m,\u001b[49m\u001b[43m \u001b[49m\u001b[43mepochs\u001b[49m\u001b[38;5;241;43m=\u001b[39;49m\u001b[38;5;241;43m10\u001b[39;49m\u001b[43m,\u001b[49m\u001b[43m \u001b[49m\u001b[43mbatch_size\u001b[49m\u001b[38;5;241;43m=\u001b[39;49m\u001b[38;5;241;43m32\u001b[39;49m\u001b[43m,\u001b[49m\u001b[43m \u001b[49m\u001b[43mvalidation_data\u001b[49m\u001b[38;5;241;43m=\u001b[39;49m\u001b[43m(\u001b[49m\u001b[43mx_test\u001b[49m\u001b[43m,\u001b[49m\u001b[43m \u001b[49m\u001b[43my_test\u001b[49m\u001b[43m)\u001b[49m\u001b[43m)\u001b[49m\n",
      "File \u001b[1;32m~\\anaconda3\\lib\\site-packages\\keras\\src\\utils\\traceback_utils.py:122\u001b[0m, in \u001b[0;36mfilter_traceback.<locals>.error_handler\u001b[1;34m(*args, **kwargs)\u001b[0m\n\u001b[0;32m    119\u001b[0m     filtered_tb \u001b[38;5;241m=\u001b[39m _process_traceback_frames(e\u001b[38;5;241m.\u001b[39m__traceback__)\n\u001b[0;32m    120\u001b[0m     \u001b[38;5;66;03m# To get the full stack trace, call:\u001b[39;00m\n\u001b[0;32m    121\u001b[0m     \u001b[38;5;66;03m# `keras.config.disable_traceback_filtering()`\u001b[39;00m\n\u001b[1;32m--> 122\u001b[0m     \u001b[38;5;28;01mraise\u001b[39;00m e\u001b[38;5;241m.\u001b[39mwith_traceback(filtered_tb) \u001b[38;5;28;01mfrom\u001b[39;00m \u001b[38;5;28;01mNone\u001b[39;00m\n\u001b[0;32m    123\u001b[0m \u001b[38;5;28;01mfinally\u001b[39;00m:\n\u001b[0;32m    124\u001b[0m     \u001b[38;5;28;01mdel\u001b[39;00m filtered_tb\n",
      "File \u001b[1;32m~\\anaconda3\\lib\\site-packages\\keras\\src\\backend\\tensorflow\\nn.py:572\u001b[0m, in \u001b[0;36mcategorical_crossentropy\u001b[1;34m(target, output, from_logits, axis)\u001b[0m\n\u001b[0;32m    566\u001b[0m     \u001b[38;5;28;01mraise\u001b[39;00m \u001b[38;5;167;01mValueError\u001b[39;00m(\n\u001b[0;32m    567\u001b[0m         \u001b[38;5;124m\"\u001b[39m\u001b[38;5;124mArguments `target` and `output` must be at least rank 1. \u001b[39m\u001b[38;5;124m\"\u001b[39m\n\u001b[0;32m    568\u001b[0m         \u001b[38;5;124m\"\u001b[39m\u001b[38;5;124mReceived: \u001b[39m\u001b[38;5;124m\"\u001b[39m\n\u001b[0;32m    569\u001b[0m         \u001b[38;5;124mf\u001b[39m\u001b[38;5;124m\"\u001b[39m\u001b[38;5;124mtarget.shape=\u001b[39m\u001b[38;5;132;01m{\u001b[39;00mtarget\u001b[38;5;241m.\u001b[39mshape\u001b[38;5;132;01m}\u001b[39;00m\u001b[38;5;124m, output.shape=\u001b[39m\u001b[38;5;132;01m{\u001b[39;00moutput\u001b[38;5;241m.\u001b[39mshape\u001b[38;5;132;01m}\u001b[39;00m\u001b[38;5;124m\"\u001b[39m\n\u001b[0;32m    570\u001b[0m     )\n\u001b[0;32m    571\u001b[0m \u001b[38;5;28;01mif\u001b[39;00m \u001b[38;5;28mlen\u001b[39m(target\u001b[38;5;241m.\u001b[39mshape) \u001b[38;5;241m!=\u001b[39m \u001b[38;5;28mlen\u001b[39m(output\u001b[38;5;241m.\u001b[39mshape):\n\u001b[1;32m--> 572\u001b[0m     \u001b[38;5;28;01mraise\u001b[39;00m \u001b[38;5;167;01mValueError\u001b[39;00m(\n\u001b[0;32m    573\u001b[0m         \u001b[38;5;124m\"\u001b[39m\u001b[38;5;124mArguments `target` and `output` must have the same rank \u001b[39m\u001b[38;5;124m\"\u001b[39m\n\u001b[0;32m    574\u001b[0m         \u001b[38;5;124m\"\u001b[39m\u001b[38;5;124m(ndim). Received: \u001b[39m\u001b[38;5;124m\"\u001b[39m\n\u001b[0;32m    575\u001b[0m         \u001b[38;5;124mf\u001b[39m\u001b[38;5;124m\"\u001b[39m\u001b[38;5;124mtarget.shape=\u001b[39m\u001b[38;5;132;01m{\u001b[39;00mtarget\u001b[38;5;241m.\u001b[39mshape\u001b[38;5;132;01m}\u001b[39;00m\u001b[38;5;124m, output.shape=\u001b[39m\u001b[38;5;132;01m{\u001b[39;00moutput\u001b[38;5;241m.\u001b[39mshape\u001b[38;5;132;01m}\u001b[39;00m\u001b[38;5;124m\"\u001b[39m\n\u001b[0;32m    576\u001b[0m     )\n\u001b[0;32m    577\u001b[0m \u001b[38;5;28;01mfor\u001b[39;00m e1, e2 \u001b[38;5;129;01min\u001b[39;00m \u001b[38;5;28mzip\u001b[39m(target\u001b[38;5;241m.\u001b[39mshape, output\u001b[38;5;241m.\u001b[39mshape):\n\u001b[0;32m    578\u001b[0m     \u001b[38;5;28;01mif\u001b[39;00m e1 \u001b[38;5;129;01mis\u001b[39;00m \u001b[38;5;129;01mnot\u001b[39;00m \u001b[38;5;28;01mNone\u001b[39;00m \u001b[38;5;129;01mand\u001b[39;00m e2 \u001b[38;5;129;01mis\u001b[39;00m \u001b[38;5;129;01mnot\u001b[39;00m \u001b[38;5;28;01mNone\u001b[39;00m \u001b[38;5;129;01mand\u001b[39;00m e1 \u001b[38;5;241m!=\u001b[39m e2:\n",
      "\u001b[1;31mValueError\u001b[0m: Arguments `target` and `output` must have the same rank (ndim). Received: target.shape=(None, 12, 11, 12), output.shape=(None, 12)"
     ]
    }
   ],
   "source": [
    "# Entrenamos el modelo\n",
    "model.fit(x_train, y_train, epochs=10, batch_size=32, validation_data=(x_test, y_test)) #ponerle unos 50 epochs  AYDIOMIO"
   ]
  },
  {
   "cell_type": "markdown",
   "id": "8695b178-b7c5-4f32-ad8b-e8655c0e9940",
   "metadata": {},
   "source": [
    "We have overfitting so we are going to add a dropout layer to the model and see what happens"
   ]
  },
  {
   "cell_type": "code",
   "execution_count": null,
   "id": "a62ed614-cccf-41bc-8924-82e438f00685",
   "metadata": {},
   "outputs": [],
   "source": []
  },
  {
   "cell_type": "code",
   "execution_count": null,
   "id": "fadf7a3a-c569-49d3-9969-e186eef520e7",
   "metadata": {},
   "outputs": [],
   "source": []
  },
  {
   "cell_type": "code",
   "execution_count": null,
   "id": "eaed5019-73eb-44db-9559-d333e3851904",
   "metadata": {},
   "outputs": [],
   "source": [
    "from keras.layers import Dropout\n",
    "\n",
    "# Create model\n",
    "model = Sequential()\n",
    "\n",
    "# Adding layers\n",
    "model.add(layers.Conv1D(32, 20, activation='relu', input_shape=(44099, 2)))\n",
    "model.add(layers.MaxPooling1D(2))\n",
    "\n",
    "\n",
    "model.add(layers.Conv1D(64, 3, activation='relu'))\n",
    "model.add(layers.MaxPooling1D(2))\n",
    "\n",
    "model.add(layers.Conv1D(128, 3, activation='relu'))\n",
    "model.add(layers.MaxPooling1D(2))\n",
    "\n",
    "model.add(layers.Flatten())\n",
    "model.add(layers.Dense(64, activation='relu'))\n",
    "model.add(Dropout(0.5))\n",
    "\n",
    "model.add(layers.Dense(128, activation='relu'))\n",
    "model.add(Dropout(0.5))\n",
    "\n",
    "model.add(layers.Dense(256, activation='relu'))\n",
    "model.add(Dropout(0.5))\n",
    "\n",
    "model.add(layers.Dense(12, activation='softmax', )) # categorical loss entrophy "
   ]
  },
  {
   "cell_type": "code",
   "execution_count": null,
   "id": "55f87394-d8e3-4082-9b55-b547590897a7",
   "metadata": {},
   "outputs": [],
   "source": [
    "# Compilamos el modelo\n",
    "model.compile(optimizer='rmsprop',\n",
    "              loss='categorical_crossentropy',\n",
    "              metrics=['accuracy'])"
   ]
  },
  {
   "cell_type": "code",
   "execution_count": null,
   "id": "e78afc47-62a9-42ee-b6a2-5cdde3949007",
   "metadata": {},
   "outputs": [],
   "source": [
    "# Entrenamos el modelo\n",
    "model.fit(x_train, y_train, epochs=10, batch_size=32, validation_data=(x_test, y_test))"
   ]
  },
  {
   "cell_type": "markdown",
   "id": "d6fa0bc3-b655-4025-8cc4-bb6283d86130",
   "metadata": {},
   "source": [
    "The quality of the results is not good so we are going to try using L2 regulatization by adding it to the model and see the result"
   ]
  },
  {
   "cell_type": "code",
   "execution_count": null,
   "id": "ebdfe3c0-8766-408f-ba0b-d49db5b302d4",
   "metadata": {},
   "outputs": [],
   "source": []
  },
  {
   "cell_type": "code",
   "execution_count": null,
   "id": "d21a2bb4-2374-45b5-a581-989ccda2789d",
   "metadata": {},
   "outputs": [],
   "source": []
  },
  {
   "cell_type": "code",
   "execution_count": null,
   "id": "0a67d57b-e159-4e80-8d61-c109e0a60a2d",
   "metadata": {},
   "outputs": [],
   "source": [
    "from keras.regularizers import l2\n",
    "\n",
    "# Create model\n",
    "model = Sequential()\n",
    "\n",
    "# Adding layers\n",
    "model.add(layers.Conv1D(32, 20, activation='relu', input_shape=(44099, 2),kernel_regularizer=l2(0.01)))\n",
    "model.add(layers.MaxPooling1D(2))\n",
    "\n",
    "\n",
    "model.add(layers.Conv1D(64, 3, activation='relu',kernel_regularizer=l2(0.01)))\n",
    "model.add(layers.MaxPooling1D(2))\n",
    "\n",
    "model.add(layers.Conv1D(128, 3, activation='relu',kernel_regularizer=l2(0.01)))\n",
    "model.add(layers.MaxPooling1D(2))\n",
    "\n",
    "model.add(layers.Flatten())\n",
    "model.add(layers.Dense(64, activation='relu',kernel_regularizer=l2(0.01)))\n",
    "\n",
    "model.add(layers.Dense(128, activation='relu',kernel_regularizer=l2(0.01)))\n",
    "\n",
    "model.add(layers.Dense(256, activation='relu',kernel_regularizer=l2(0.01)))\n",
    "\n",
    "model.add(layers.Dense(12, activation='softmax', )) # categorical loss entrophy "
   ]
  },
  {
   "cell_type": "code",
   "execution_count": null,
   "id": "0a1c1d9e-bcd6-41f0-b440-fc6651cfb904",
   "metadata": {},
   "outputs": [],
   "source": [
    "# Compilamos el modelo\n",
    "model.compile(optimizer='rmsprop',\n",
    "              loss='categorical_crossentropy',\n",
    "              metrics=['accuracy'])"
   ]
  },
  {
   "cell_type": "code",
   "execution_count": null,
   "id": "218e0fe8-2c9e-4510-91e8-94542a75a628",
   "metadata": {},
   "outputs": [],
   "source": [
    "# Entrenamos el modelo\n",
    "model.fit(x_train, y_train, epochs=10, batch_size=32, validation_data=(x_test, y_test))"
   ]
  },
  {
   "cell_type": "code",
   "execution_count": null,
   "id": "00afdab3-fac1-4703-8166-fac6d27a2732",
   "metadata": {},
   "outputs": [],
   "source": []
  },
  {
   "cell_type": "code",
   "execution_count": null,
   "id": "5e61ec8f-dfa4-445c-8256-3e5b5d0aa2ec",
   "metadata": {},
   "outputs": [],
   "source": []
  },
  {
   "cell_type": "code",
   "execution_count": null,
   "id": "8b69463c-e8e9-47d5-826f-8022929a2429",
   "metadata": {},
   "outputs": [],
   "source": []
  },
  {
   "cell_type": "code",
   "execution_count": null,
   "id": "58ed09a0-382e-46c7-923a-07b06935f9a4",
   "metadata": {},
   "outputs": [],
   "source": []
  }
 ],
 "metadata": {
  "kernelspec": {
   "display_name": "Python 3 (ipykernel)",
   "language": "python",
   "name": "python3"
  },
  "language_info": {
   "codemirror_mode": {
    "name": "ipython",
    "version": 3
   },
   "file_extension": ".py",
   "mimetype": "text/x-python",
   "name": "python",
   "nbconvert_exporter": "python",
   "pygments_lexer": "ipython3",
   "version": "3.9.18"
  }
 },
 "nbformat": 4,
 "nbformat_minor": 5
}
